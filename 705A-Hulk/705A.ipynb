{
 "cells": [
  {
   "cell_type": "code",
   "execution_count": 6,
   "metadata": {},
   "outputs": [
    {
     "name": "stdout",
     "output_type": "stream",
     "text": [
      "I hate that I love that I hate it\n"
     ]
    }
   ],
   "source": [
    "n = int(input())\n",
    "s = \"I hate\"\n",
    "odd = \"I hate\"\n",
    "eve = \"I love\"\n",
    "\n",
    "for i in range(1,n): \n",
    "    if i%2 != 0: \n",
    "        s += \" that I love\"\n",
    "    else: \n",
    "        s += \" that I hate\"\n",
    "\n",
    "ans = s + \" it\"\n",
    "\n",
    "print(ans)\n"
   ]
  }
 ],
 "metadata": {
  "kernelspec": {
   "display_name": "Python 3",
   "language": "python",
   "name": "python3"
  },
  "language_info": {
   "codemirror_mode": {
    "name": "ipython",
    "version": 3
   },
   "file_extension": ".py",
   "mimetype": "text/x-python",
   "name": "python",
   "nbconvert_exporter": "python",
   "pygments_lexer": "ipython3",
   "version": "3.11.5"
  }
 },
 "nbformat": 4,
 "nbformat_minor": 2
}
