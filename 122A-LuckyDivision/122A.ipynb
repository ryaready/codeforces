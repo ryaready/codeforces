{
 "cells": [
  {
   "cell_type": "markdown",
   "metadata": {},
   "source": [
    "Petya loves lucky numbers. Everybody knows that lucky numbers are positive integers whose decimal representation contains only the lucky digits 4 and 7. For example, numbers 47, 744, 4 are lucky and 5, 17, 467 are not.\n",
    "\n",
    "Petya calls a number almost lucky if it could be evenly divided by some lucky number. Help him find out if the given number n is almost lucky.\n",
    "\n",
    "Input\n",
    "The single line contains an integer n (1 ≤ n ≤ 1000) — the number that needs to be checked.\n",
    "\n",
    "Output\n",
    "In the only line print \"YES\" (without the quotes), if number n is almost lucky. Otherwise, print \"NO\" (without the quotes)."
   ]
  },
  {
   "cell_type": "markdown",
   "metadata": {},
   "source": [
    "input: 47\n",
    "output: YES\n",
    "\n",
    "input: 16\n",
    "output: YES\n",
    "\n",
    "input: 78\n",
    "output: NO"
   ]
  },
  {
   "cell_type": "code",
   "execution_count": 6,
   "metadata": {},
   "outputs": [
    {
     "name": "stdout",
     "output_type": "stream",
     "text": [
      "YES\n"
     ]
    }
   ],
   "source": [
    "n = int(input())\n",
    "\n",
    "if n%4 == 0:\n",
    "    print('YES')\n",
    "elif n%7 == 0: \n",
    "    print('YES')\n",
    "elif n%47 == 0:\n",
    "    print('YES')\n",
    "elif n%74 == 0: \n",
    "    print('YES')\n",
    "elif n%444 == 0:\n",
    "    print('YES')\n",
    "elif n%447 == 0: \n",
    "    print('YES')\n",
    "elif n%474 == 0: \n",
    "    print('YES')\n",
    "elif n%477 == 0: \n",
    "    print('YES')\n",
    "elif n%744 == 0: \n",
    "    print('YES')\n",
    "elif n%747 == 0: \n",
    "    print('YES')\n",
    "elif n%777 == 0: \n",
    "    print('YES')\n",
    "else: \n",
    "    print('NO')\n",
    "\n"
   ]
  }
 ],
 "metadata": {
  "kernelspec": {
   "display_name": "Python 3",
   "language": "python",
   "name": "python3"
  },
  "language_info": {
   "codemirror_mode": {
    "name": "ipython",
    "version": 3
   },
   "file_extension": ".py",
   "mimetype": "text/x-python",
   "name": "python",
   "nbconvert_exporter": "python",
   "pygments_lexer": "ipython3",
   "version": "3.11.5"
  }
 },
 "nbformat": 4,
 "nbformat_minor": 2
}
