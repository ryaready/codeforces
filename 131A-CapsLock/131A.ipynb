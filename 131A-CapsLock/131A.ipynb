{
 "cells": [
  {
   "cell_type": "code",
   "execution_count": 9,
   "metadata": {},
   "outputs": [
    {
     "name": "stdout",
     "output_type": "stream",
     "text": [
      "B\n"
     ]
    }
   ],
   "source": [
    "s = str(input())\n",
    "ans = s.lower().capitalize()\n",
    "print(ans)"
   ]
  },
  {
   "cell_type": "code",
   "execution_count": null,
   "metadata": {},
   "outputs": [],
   "source": [
    "x = str(input())\n",
    "up = 0\n",
    "low = 0 \n",
    "\n",
    "for i in x: \n",
    "    if i.isupper(): \n",
    "        up += 1\n",
    "    else: \n",
    "        low += 1 \n",
    "\n",
    "if (x[0].islower() and up == len(x)-1 ):\n",
    "    for i in range(len(x)): \n",
    "        if i == 0: \n",
    "            print(x[i].upper(), end=\"\")\n",
    "        else:\n",
    "            print(x[i].lower(), end=\"\") \n",
    "elif up == len(x): \n",
    "    for i in range(len(x)): \n",
    "        print(x[i].lower(), end=\"\")\n",
    "else: \n",
    "    print(x)\n"
   ]
  }
 ],
 "metadata": {
  "kernelspec": {
   "display_name": "Python 3",
   "language": "python",
   "name": "python3"
  },
  "language_info": {
   "codemirror_mode": {
    "name": "ipython",
    "version": 3
   },
   "file_extension": ".py",
   "mimetype": "text/x-python",
   "name": "python",
   "nbconvert_exporter": "python",
   "pygments_lexer": "ipython3",
   "version": "3.11.5"
  }
 },
 "nbformat": 4,
 "nbformat_minor": 2
}
