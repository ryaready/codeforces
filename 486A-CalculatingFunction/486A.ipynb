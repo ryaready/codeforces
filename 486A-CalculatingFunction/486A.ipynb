{
 "cells": [
  {
   "cell_type": "markdown",
   "metadata": {},
   "source": [
    "For a positive integer n let's define a function f:\n",
    "\n",
    "f(n) =  - 1 + 2 - 3 + .. + ( - 1)nn\n",
    "\n",
    "Your task is to calculate f(n) for a given integer n.\n",
    "\n",
    "Input\n",
    "The single line contains the positive integer n (1 ≤ n ≤ 1015).\n",
    "\n",
    "Output\n",
    "Print f(n) in a single line.\n",
    "\n"
   ]
  },
  {
   "cell_type": "code",
   "execution_count": 12,
   "metadata": {},
   "outputs": [
    {
     "name": "stdout",
     "output_type": "stream",
     "text": [
      "-3\n"
     ]
    }
   ],
   "source": [
    "n = int(input())\n",
    "\n",
    "ans = 0\n",
    "\n",
    "if n%2 == 0:\n",
    "    ans = n//2 \n",
    "else: \n",
    "    ans = ((n+1)//2) * -1\n",
    "\n",
    "print(ans)"
   ]
  }
 ],
 "metadata": {
  "kernelspec": {
   "display_name": "Python 3",
   "language": "python",
   "name": "python3"
  },
  "language_info": {
   "codemirror_mode": {
    "name": "ipython",
    "version": 3
   },
   "file_extension": ".py",
   "mimetype": "text/x-python",
   "name": "python",
   "nbconvert_exporter": "python",
   "pygments_lexer": "ipython3",
   "version": "3.11.5"
  }
 },
 "nbformat": 4,
 "nbformat_minor": 2
}
