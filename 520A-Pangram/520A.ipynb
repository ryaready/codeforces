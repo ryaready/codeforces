{
 "cells": [
  {
   "cell_type": "code",
   "execution_count": 2,
   "metadata": {},
   "outputs": [],
   "source": [
    "def pangram(n, s):\n",
    "\n",
    "    alph = 'abcdefghijklmnopqrstuvwxyz'\n",
    "    x = len(alph)\n",
    "\n",
    "    if n < x:\n",
    "        return('NO')\n",
    "    else: \n",
    "        for char in alph: \n",
    "            if char not in s: \n",
    "                return('NO')\n",
    "\n",
    "    return('YES')\n",
    "\n"
   ]
  },
  {
   "cell_type": "code",
   "execution_count": 4,
   "metadata": {},
   "outputs": [
    {
     "name": "stdout",
     "output_type": "stream",
     "text": [
      "YES\n"
     ]
    }
   ],
   "source": [
    "n = int(input())\n",
    "s = str(input()).lower()\n",
    "print(pangram(n,s))"
   ]
  }
 ],
 "metadata": {
  "kernelspec": {
   "display_name": "Python 3",
   "language": "python",
   "name": "python3"
  },
  "language_info": {
   "codemirror_mode": {
    "name": "ipython",
    "version": 3
   },
   "file_extension": ".py",
   "mimetype": "text/x-python",
   "name": "python",
   "nbconvert_exporter": "python",
   "pygments_lexer": "ipython3",
   "version": "3.11.5"
  }
 },
 "nbformat": 4,
 "nbformat_minor": 2
}
