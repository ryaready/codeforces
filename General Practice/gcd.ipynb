{
 "cells": [
  {
   "cell_type": "code",
   "execution_count": 53,
   "metadata": {},
   "outputs": [
    {
     "name": "stdout",
     "output_type": "stream",
     "text": [
      "6\n"
     ]
    }
   ],
   "source": [
    "def gcd(a,b): \n",
    "    if b == 0:\n",
    "        return a\n",
    "    else: \n",
    "        return gcd(b, a%b)\n",
    "\n",
    "print(gcd(24, 30))\n",
    "\n"
   ]
  },
  {
   "cell_type": "code",
   "execution_count": 54,
   "metadata": {},
   "outputs": [
    {
     "name": "stdout",
     "output_type": "stream",
     "text": [
      "AB\n"
     ]
    }
   ],
   "source": [
    "def gcdStr(a,b): \n",
    "    if a + b != b + a: \n",
    "        return \"\"\n",
    "    if len(a) == len(b): \n",
    "        return a\n",
    "    if len(a) > len(b): \n",
    "        return gcdStr(a[len(b):], b)\n",
    "    \n",
    "    return gcdStr(a, b[len(a):])\n",
    "\n",
    "print(gcdStr('ABABAB', 'ABAB'))\n",
    "    "
   ]
  },
  {
   "cell_type": "code",
   "execution_count": 55,
   "metadata": {},
   "outputs": [],
   "source": [
    "def gcdOfStrings(self, str1, str2):\n",
    "        if str1 + str2 != str2 + str1:\n",
    "            return \"\"\n",
    "        if len(str1) == len(str2):\n",
    "            return str1\n",
    "        if len(str1) > len(str2):\n",
    "            return gcdOfStrings(str1[len(str2):], str2)\n",
    "        return gcdOfStrings(str1, str2[len(str1):])"
   ]
  },
  {
   "cell_type": "code",
   "execution_count": 56,
   "metadata": {},
   "outputs": [],
   "source": [
    "def reverseWords(s):\n",
    "\n",
    "        ls = s.split(\" \")\n",
    "        a = ls.reverse()\n",
    "        print(a.reverse())\n",
    "        \n",
    "        newS = \"\"\n",
    "\n",
    "        for word in ls: \n",
    "            print(word)\n",
    "            if word != \" \": \n",
    "                newS += word\n",
    "                newS += \" \"\n",
    "    \n",
    "        \n",
    "        return newS.strip()\n",
    "        \n",
    "\n",
    "        "
   ]
  },
  {
   "cell_type": "code",
   "execution_count": 57,
   "metadata": {},
   "outputs": [
    {
     "ename": "AttributeError",
     "evalue": "'NoneType' object has no attribute 'reverse'",
     "output_type": "error",
     "traceback": [
      "\u001b[0;31m---------------------------------------------------------------------------\u001b[0m",
      "\u001b[0;31mAttributeError\u001b[0m                            Traceback (most recent call last)",
      "Cell \u001b[0;32mIn[57], line 1\u001b[0m\n\u001b[0;32m----> 1\u001b[0m \u001b[38;5;28mprint\u001b[39m(\u001b[43mreverseWords\u001b[49m\u001b[43m(\u001b[49m\u001b[38;5;124;43m'\u001b[39;49m\u001b[38;5;124;43ma good    example\u001b[39;49m\u001b[38;5;124;43m'\u001b[39;49m\u001b[43m)\u001b[49m)\n",
      "Cell \u001b[0;32mIn[56], line 5\u001b[0m, in \u001b[0;36mreverseWords\u001b[0;34m(s)\u001b[0m\n\u001b[1;32m      3\u001b[0m ls \u001b[38;5;241m=\u001b[39m s\u001b[38;5;241m.\u001b[39msplit(\u001b[38;5;124m\"\u001b[39m\u001b[38;5;124m \u001b[39m\u001b[38;5;124m\"\u001b[39m)\n\u001b[1;32m      4\u001b[0m a \u001b[38;5;241m=\u001b[39m ls\u001b[38;5;241m.\u001b[39mreverse()\n\u001b[0;32m----> 5\u001b[0m \u001b[38;5;28mprint\u001b[39m(\u001b[43ma\u001b[49m\u001b[38;5;241;43m.\u001b[39;49m\u001b[43mreverse\u001b[49m())\n\u001b[1;32m      7\u001b[0m newS \u001b[38;5;241m=\u001b[39m \u001b[38;5;124m\"\u001b[39m\u001b[38;5;124m\"\u001b[39m\n\u001b[1;32m      9\u001b[0m \u001b[38;5;28;01mfor\u001b[39;00m word \u001b[38;5;129;01min\u001b[39;00m ls: \n",
      "\u001b[0;31mAttributeError\u001b[0m: 'NoneType' object has no attribute 'reverse'"
     ]
    }
   ],
   "source": [
    "print(reverseWords('a good    example'))"
   ]
  },
  {
   "cell_type": "code",
   "execution_count": null,
   "metadata": {},
   "outputs": [],
   "source": [
    "s = 'a good    example'"
   ]
  },
  {
   "cell_type": "code",
   "execution_count": null,
   "metadata": {},
   "outputs": [
    {
     "name": "stdout",
     "output_type": "stream",
     "text": [
      "None\n"
     ]
    }
   ],
   "source": [
    "ls = s.split(\" \")\n",
    "ls.reverse()\n",
    "print(ls.reverse())"
   ]
  },
  {
   "cell_type": "code",
   "execution_count": 58,
   "metadata": {},
   "outputs": [],
   "source": [
    "def maxArea(height):\n",
    "        l = 0\n",
    "        r = len(height)-1\n",
    "        n = len(height)\n",
    "\n",
    "        area = 1\n",
    "\n",
    "        while l < n//2 and r > 0:\n",
    "\n",
    "            width = r-l\n",
    "            h = min(height[l], height[r]) \n",
    "            if height[l] == h: \n",
    "                l += 1\n",
    "            else: \n",
    "                r -= 1\n",
    "            area = max(area, (width*h))\n",
    "\n",
    "            \n",
    "\n",
    "        return area\n",
    "\n"
   ]
  },
  {
   "cell_type": "code",
   "execution_count": 59,
   "metadata": {},
   "outputs": [
    {
     "name": "stdout",
     "output_type": "stream",
     "text": [
      "width:  8\n",
      "h:  1\n",
      "area:  8\n",
      "width:  7\n",
      "h:  7\n",
      "area:  49\n",
      "width:  6\n",
      "h:  3\n",
      "area:  49\n",
      "width:  5\n",
      "h:  8\n",
      "area:  49\n",
      "width:  4\n",
      "h:  6\n",
      "area:  49\n",
      "width:  3\n",
      "h:  2\n",
      "area:  49\n"
     ]
    },
    {
     "data": {
      "text/plain": [
       "49"
      ]
     },
     "execution_count": 59,
     "metadata": {},
     "output_type": "execute_result"
    }
   ],
   "source": [
    "maxArea([1,8,6,2,5,4,8,3,7])"
   ]
  }
 ],
 "metadata": {
  "kernelspec": {
   "display_name": "Python 3",
   "language": "python",
   "name": "python3"
  },
  "language_info": {
   "codemirror_mode": {
    "name": "ipython",
    "version": 3
   },
   "file_extension": ".py",
   "mimetype": "text/x-python",
   "name": "python",
   "nbconvert_exporter": "python",
   "pygments_lexer": "ipython3",
   "version": "3.11.5"
  }
 },
 "nbformat": 4,
 "nbformat_minor": 2
}
