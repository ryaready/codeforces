{
 "cells": [
  {
   "cell_type": "markdown",
   "metadata": {},
   "source": [
    "A. Even Odds\n",
    "\n",
    "Being a nonconformist, Volodya is displeased with the current state of things, particularly with the order of natural numbers (natural number is positive integer number). He is determined to rearrange them. But there are too many natural numbers, so Volodya decided to start with the first n. He writes down the following sequence of numbers: firstly all odd integers from 1 to n (in ascending order), then all even integers from 1 to n (also in ascending order). Help our hero to find out which number will stand at the position number k.\n",
    "\n",
    "Input\n",
    "The only line of input contains integers n and k (1 ≤ k ≤ n ≤ 1012).\n",
    "\n",
    "Please, do not use the %lld specifier to read or write 64-bit integers in C++. It is preferred to use the cin, cout streams or the %I64d specifier.\n",
    "\n",
    "Output\n",
    "Print the number that will stand at the position number k after Volodya's manipulations."
   ]
  },
  {
   "cell_type": "code",
   "execution_count": 9,
   "metadata": {},
   "outputs": [
    {
     "name": "stdout",
     "output_type": "stream",
     "text": [
      "5\n"
     ]
    }
   ],
   "source": [
    "m = list(map(int, input().split()))\n",
    "n = m[0]\n",
    "k = m[1]\n",
    "\n",
    "odd = []\n",
    "even = []\n",
    "\n",
    "for i in range(1,n+1):\n",
    "    if i%2 != 0: \n",
    "        odd.append(i)\n",
    "    else: \n",
    "        even.append(i)\n",
    "\n",
    "ls = odd + even\n",
    "print(ls[k-1])\n",
    "\n"
   ]
  },
  {
   "cell_type": "code",
   "execution_count": 18,
   "metadata": {},
   "outputs": [
    {
     "name": "stdout",
     "output_type": "stream",
     "text": [
      "6\n"
     ]
    }
   ],
   "source": [
    "m = list(map(int, input().split()))\n",
    "n = m[0]\n",
    "k = m[1]\n",
    "\n",
    "ls = list(range(1,n+1))\n",
    "\n",
    "eve = ls[1::2]\n",
    "odd = ls[::2]\n",
    "\n",
    "ansLs = odd + eve\n",
    "\n",
    "\n"
   ]
  },
  {
   "cell_type": "code",
   "execution_count": 21,
   "metadata": {},
   "outputs": [
    {
     "name": "stdout",
     "output_type": "stream",
     "text": [
      "5\n"
     ]
    }
   ],
   "source": [
    "import math\n",
    "\n",
    "m = list(map(int, input().split()))\n",
    "n = m[0]\n",
    "k = m[1]\n",
    "\n",
    "mid = math.ceil(n/2)\n",
    "\n",
    "if k > mid: \n",
    "\n",
    "    print(2 * (k - mid))\n",
    "\n",
    "else: \n",
    "\n",
    "    print((2 * k) - 1)"
   ]
  }
 ],
 "metadata": {
  "kernelspec": {
   "display_name": "Python 3",
   "language": "python",
   "name": "python3"
  },
  "language_info": {
   "codemirror_mode": {
    "name": "ipython",
    "version": 3
   },
   "file_extension": ".py",
   "mimetype": "text/x-python",
   "name": "python",
   "nbconvert_exporter": "python",
   "pygments_lexer": "ipython3",
   "version": "3.11.5"
  }
 },
 "nbformat": 4,
 "nbformat_minor": 2
}
