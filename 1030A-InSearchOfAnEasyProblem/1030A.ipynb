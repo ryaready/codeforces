{
 "cells": [
  {
   "cell_type": "markdown",
   "metadata": {},
   "source": [
    "A. In Search of an Easy Problem\n",
    "time limit per test1 second\n",
    "memory limit per test256 megabytes\n",
    "When preparing a tournament, Codeforces coordinators try treir best to make the first problem as easy as possible. This time the coordinator had chosen some problem and asked 𝑛\n",
    " people about their opinions. Each person answered whether this problem is easy or hard.\n",
    "\n",
    "If at least one of these 𝑛\n",
    " people has answered that the problem is hard, the coordinator decides to change the problem. For the given responses, check if the problem is easy enough.\n",
    "\n",
    "Input\n",
    "The first line contains a single integer 𝑛\n",
    " (1≤𝑛≤100\n",
    ") — the number of people who were asked to give their opinions.\n",
    "\n",
    "The second line contains 𝑛\n",
    " integers, each integer is either 0\n",
    " or 1\n",
    ". If 𝑖\n",
    "-th integer is 0\n",
    ", then 𝑖\n",
    "-th person thinks that the problem is easy; if it is 1\n",
    ", then 𝑖\n",
    "-th person thinks that the problem is hard.\n",
    "\n",
    "Output\n",
    "Print one word: \"EASY\" if the problem is easy according to all responses, or \"HARD\" if there is at least one person who thinks the problem is hard.\n",
    "\n",
    "You may print every letter in any register: \"EASY\", \"easy\", \"EaSY\" and \"eAsY\" all will be processed correctly."
   ]
  },
  {
   "cell_type": "code",
   "execution_count": 3,
   "metadata": {},
   "outputs": [
    {
     "name": "stdout",
     "output_type": "stream",
     "text": [
      "EASY\n"
     ]
    }
   ],
   "source": [
    "n = input()\n",
    "n2 = str(input())\n",
    "\n",
    "if '1' in n2: \n",
    "    print('HARD')\n",
    "else: \n",
    "    print('EASY')"
   ]
  }
 ],
 "metadata": {
  "kernelspec": {
   "display_name": "Python 3",
   "language": "python",
   "name": "python3"
  },
  "language_info": {
   "codemirror_mode": {
    "name": "ipython",
    "version": 3
   },
   "file_extension": ".py",
   "mimetype": "text/x-python",
   "name": "python",
   "nbconvert_exporter": "python",
   "pygments_lexer": "ipython3",
   "version": "3.11.5"
  }
 },
 "nbformat": 4,
 "nbformat_minor": 2
}
