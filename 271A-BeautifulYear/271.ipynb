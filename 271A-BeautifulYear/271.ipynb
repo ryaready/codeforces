{
 "cells": [
  {
   "cell_type": "markdown",
   "metadata": {},
   "source": [
    "A. Beautiful Year\n",
    "\n",
    "It seems like the year of 2013 came only yesterday. Do you know a curious fact? The year of 2013 is the first year after the old 1987 with only distinct digits.\n",
    "\n",
    "Now you are suggested to solve the following problem: given a year number, find the minimum year number which is strictly larger than the given one and has only distinct digits.\n",
    "\n",
    "Input\n",
    "The single line contains integer y (1000 ≤ y ≤ 9000) — the year number.\n",
    "\n",
    "Output\n",
    "Print a single integer — the minimum year number that is strictly larger than y and all it's digits are distinct. It is guaranteed that the answer exists."
   ]
  },
  {
   "cell_type": "code",
   "execution_count": 5,
   "metadata": {},
   "outputs": [
    {
     "name": "stdout",
     "output_type": "stream",
     "text": [
      "2014\n"
     ]
    }
   ],
   "source": [
    "def isUnique(n): \n",
    "    ls = list(map(int, str(n)))\n",
    "    b = len(ls) == len(set(ls))\n",
    "    return b\n",
    "\n",
    "\n",
    "\n",
    "def yearFinder(n): \n",
    "    curr_year = n + 1\n",
    "    while not isUnique(curr_year): \n",
    "        curr_year += 1\n",
    "\n",
    "    return curr_year\n",
    "\n",
    "\n",
    "print(yearFinder(int(input())))"
   ]
  }
 ],
 "metadata": {
  "kernelspec": {
   "display_name": "Python 3",
   "language": "python",
   "name": "python3"
  },
  "language_info": {
   "codemirror_mode": {
    "name": "ipython",
    "version": 3
   },
   "file_extension": ".py",
   "mimetype": "text/x-python",
   "name": "python",
   "nbconvert_exporter": "python",
   "pygments_lexer": "ipython3",
   "version": "3.11.5"
  }
 },
 "nbformat": 4,
 "nbformat_minor": 2
}
